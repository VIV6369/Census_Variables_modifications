{
 "cells": [
  {
   "cell_type": "markdown",
   "id": "b2c9733f",
   "metadata": {},
   "source": [
    "***Census Variables***\n",
    "\n",
    "You have decided to volunteer for your local community by offering to clean their recently collected census data. The description of this dataset is as follows:\n",
    "* column\t        description\n",
    "* first_name\t    The respondent’s first name.\n",
    "* last_name\t        The respondent’s last name.\n",
    "* birth_year\t    The respondent’s year of birth.\n",
    "* voted\t            If the respondent participated in the current voting cycle.\n",
    "* num_children\t    The number of children the respondent has.\n",
    "* income_year\t    The average yearly income the respondent earns.\n",
    "* higher_tax\t    The respondent’s answer to the question: “Rate your agreement with the statement: the wealthy should pay higher taxes.”\n",
    "* marital_status\tThe respondent’s current marital status."
   ]
  },
  {
   "cell_type": "code",
   "execution_count": 13,
   "id": "653207db",
   "metadata": {},
   "outputs": [],
   "source": [
    "# Import pandas with alias\n",
    "import pandas as pd\n",
    "\n",
    "#1 Read in the census dataframe\n",
    "census = pd.read_csv('census_data.csv', index_col=0)"
   ]
  },
  {
   "cell_type": "code",
   "execution_count": 14,
   "id": "d9c95494",
   "metadata": {},
   "outputs": [
    {
     "name": "stdout",
     "output_type": "stream",
     "text": [
      "  first_name  last_name birth_year  voted  num_children  income_year  \\\n",
      "0     Denise      Ratke       2005  False             0     92129.41   \n",
      "1       Hali  Cummerata       1987  False             0     75649.17   \n",
      "2    Salomon        Orn       1992   True             2    166313.45   \n",
      "3     Sarina   Schiller       1965  False             2     71704.81   \n",
      "4       Gust  Abernathy       1945  False             2    143316.08   \n",
      "\n",
      "       higher_tax marital_status  \n",
      "0        disagree         single  \n",
      "1         neutral       divorced  \n",
      "2           agree         single  \n",
      "3  strongly agree        married  \n",
      "4           agree        married  \n"
     ]
    }
   ],
   "source": [
    "#2 Census data to represent demographics of a small community in the U.S. Let's see what is in it\n",
    "print(census.head())"
   ]
  },
  {
   "cell_type": "code",
   "execution_count": 15,
   "id": "038cd360",
   "metadata": {},
   "outputs": [
    {
     "name": "stdout",
     "output_type": "stream",
     "text": [
      "first_name         object\n",
      "last_name          object\n",
      "birth_year         object\n",
      "voted                bool\n",
      "num_children        int64\n",
      "income_year       float64\n",
      "higher_tax         object\n",
      "marital_status     object\n",
      "dtype: object\n"
     ]
    }
   ],
   "source": [
    "#3 Compare the values returned from the .head() method with the data types of each variable by calling .dtypes on the census dataframe and print the result.\n",
    "print(census.dtypes)"
   ]
  },
  {
   "cell_type": "code",
   "execution_count": 16,
   "id": "cb18a885",
   "metadata": {},
   "outputs": [
    {
     "name": "stdout",
     "output_type": "stream",
     "text": [
      "['2005' '1987' '1992' '1965' '1945' '1951' '1963' '1949' '1950' '1971'\n",
      " '2007' '1944' '1995' '1973' '1946' '1954' '1994' '1989' '1947' '1993'\n",
      " '1976' '1984' 'missing' '1966' '1941' '2000' '1953' '1956' '1960' '2001'\n",
      " '1980' '1955' '1985' '1996' '1968' '1979' '2006' '1962' '1981' '1959'\n",
      " '1977' '1978' '1983' '1957' '1961' '1982' '2002' '1998' '1999' '1952'\n",
      " '1940' '1986' '1958']\n"
     ]
    }
   ],
   "source": [
    "#4 The manager of the census would like to know the average birth year of the respondents. \n",
    "# We were able to see from .dtypes that birth_year has been assigned the str datatype whereas it should be expressed in int.\n",
    "# Print the unique values of the variable using the .unique() method. To see if there is missing data or NaN value\n",
    "print(census.birth_year.unique())"
   ]
  },
  {
   "cell_type": "code",
   "execution_count": 17,
   "id": "a8a5c0bd",
   "metadata": {},
   "outputs": [
    {
     "name": "stdout",
     "output_type": "stream",
     "text": [
      "['2005' '1987' '1992' '1965' '1945' '1951' '1963' '1949' '1950' '1971'\n",
      " '2007' '1944' '1995' '1973' '1946' '1954' '1994' '1989' '1947' '1993'\n",
      " '1976' '1984' '1967' '1966' '1941' '2000' '1953' '1956' '1960' '2001'\n",
      " '1980' '1955' '1985' '1996' '1968' '1979' '2006' '1962' '1981' '1959'\n",
      " '1977' '1978' '1983' '1957' '1961' '1982' '2002' '1998' '1999' '1952'\n",
      " '1940' '1986' '1958']\n"
     ]
    }
   ],
   "source": [
    "#5 There appears to be a missing value in the birth_year column. You find that the respondent’s birth year is 1967.\n",
    "# Use the .replace() method to replace the missing value with 1967, so that the data type can be changed to int. \n",
    "# Then recheck the values in birth_year by calling the .unique() method and printing the results.\n",
    "census.birth_year = census.birth_year.replace('missing', '1967')\n",
    "print(census.birth_year.unique())"
   ]
  },
  {
   "cell_type": "code",
   "execution_count": 18,
   "id": "9e7b6827",
   "metadata": {},
   "outputs": [
    {
     "name": "stdout",
     "output_type": "stream",
     "text": [
      "first_name         object\n",
      "last_name          object\n",
      "birth_year          int64\n",
      "voted                bool\n",
      "num_children        int64\n",
      "income_year       float64\n",
      "higher_tax         object\n",
      "marital_status     object\n",
      "dtype: object\n"
     ]
    }
   ],
   "source": [
    "#6 Now that we have adjusted the values in the birth_year variable, \n",
    "# change the datatype from str to int and print the datatypes of the census dataframe with .dtypes.\n",
    "census.birth_year = census.birth_year.astype('int64')\n",
    "print(census.dtypes)"
   ]
  },
  {
   "cell_type": "code",
   "execution_count": 19,
   "id": "9cc3a565",
   "metadata": {},
   "outputs": [
    {
     "name": "stdout",
     "output_type": "stream",
     "text": [
      "1973.4\n"
     ]
    }
   ],
   "source": [
    "#7 Having assigned birth_year to the appropriate data type, \n",
    "# print the average birth year of the respondents to the census using the pandas .mean() method.\n",
    "print(census.birth_year.mean())"
   ]
  },
  {
   "cell_type": "code",
   "execution_count": 20,
   "id": "af57a91b",
   "metadata": {},
   "outputs": [
    {
     "name": "stdout",
     "output_type": "stream",
     "text": [
      "['disagree', 'neutral', 'agree', 'strongly agree', 'strongly disagree']\n",
      "Categories (5, object): ['strongly disagree' < 'disagree' < 'neutral' < 'agree' < 'strongly agree']\n"
     ]
    }
   ],
   "source": [
    "#8 Your manager would like to set an order to the higher_tax variable so that: \n",
    "# strongly disagree < disagree < neutral < agree < strongly agree.\n",
    "# Convert the higher_tax variable to the category data type with the appropriate order, \n",
    "#then print the new order using the .unique() method.\n",
    "census.higher_tax = pd.Categorical(census.higher_tax, ['strongly disagree', 'disagree', 'neutral', 'agree', 'strongly agree'], ordered=True)\n",
    "print(census.higher_tax.unique())"
   ]
  },
  {
   "cell_type": "code",
   "execution_count": 21,
   "id": "9d3f960c",
   "metadata": {},
   "outputs": [
    {
     "name": "stdout",
     "output_type": "stream",
     "text": [
      "Median sentiment is 2.0 which represents neutral\n"
     ]
    }
   ],
   "source": [
    "#9 Your manager would also like to know the median sentiment of the respondents on the issue of higher taxes for the wealthy. \n",
    "# Label encode the higher_tax variable and print the median using the pandas .median() method.\n",
    "census.higher_tax = census.higher_tax.cat.codes\n",
    "print(\"Median sentiment is \" + str(census.higher_tax.median()) + \" which represents neutral\")"
   ]
  },
  {
   "cell_type": "code",
   "execution_count": 22,
   "id": "17ee988d",
   "metadata": {},
   "outputs": [
    {
     "name": "stdout",
     "output_type": "stream",
     "text": [
      "  first_name  last_name  birth_year  voted  num_children  income_year  \\\n",
      "0     Denise      Ratke        2005  False             0     92129.41   \n",
      "1       Hali  Cummerata        1987  False             0     75649.17   \n",
      "2    Salomon        Orn        1992   True             2    166313.45   \n",
      "3     Sarina   Schiller        1965  False             2     71704.81   \n",
      "4       Gust  Abernathy        1945  False             2    143316.08   \n",
      "\n",
      "   higher_tax  marital_status_divorced  marital_status_married  \\\n",
      "0           1                        0                       0   \n",
      "1           2                        1                       0   \n",
      "2           3                        0                       0   \n",
      "3           4                        0                       1   \n",
      "4           3                        0                       1   \n",
      "\n",
      "   marital_status_single  marital_status_widowed  \n",
      "0                      1                       0  \n",
      "1                      0                       0  \n",
      "2                      1                       0  \n",
      "3                      0                       0  \n",
      "4                      0                       0  \n"
     ]
    }
   ],
   "source": [
    "#10 Your manager is interested in using machine learning models on the census data in the future. To help, let’s One-Hot Encode marital_status to create binary variables of each category. \n",
    "# Use the pandas get_dummies() method to One-Hot Encode the marital_status variable.\n",
    "census1 = pd.get_dummies(data=census, columns=['marital_status'])\n",
    "print(census1.head())"
   ]
  },
  {
   "cell_type": "code",
   "execution_count": 23,
   "id": "16d37f75",
   "metadata": {},
   "outputs": [
    {
     "name": "stdout",
     "output_type": "stream",
     "text": [
      "  first_name  last_name  birth_year  voted  num_children  income_year  \\\n",
      "0     Denise      Ratke        2005  False             0     92129.41   \n",
      "1       Hali  Cummerata        1987  False             0     75649.17   \n",
      "2    Salomon        Orn        1992   True             2    166313.45   \n",
      "3     Sarina   Schiller        1965  False             2     71704.81   \n",
      "4       Gust  Abernathy        1945  False             2    143316.08   \n",
      "\n",
      "   higher_tax marital_status  marital_codes  \n",
      "0           1         single              0  \n",
      "1           2       divorced              3  \n",
      "2           3         single              0  \n",
      "3           4        married              1  \n",
      "4           3        married              1  \n"
     ]
    }
   ],
   "source": [
    "#11 Create a new variable called marital_codes by Label Encoding the marital_status variable. \n",
    "# This could help the Census team use machine learning to predict if a respondent thinks the wealthy should pay \n",
    "# higher taxes based on their marital status.\n",
    "census.marital_status = pd.Categorical(census.marital_status, ['single', 'married', 'widowed', 'divorced'], ordered=True)\n",
    "census['marital_codes'] = census.marital_status.cat.codes\n",
    "print(census.head())"
   ]
  },
  {
   "cell_type": "code",
   "execution_count": 24,
   "id": "6ff1d526",
   "metadata": {},
   "outputs": [
    {
     "name": "stdout",
     "output_type": "stream",
     "text": [
      "  first_name  last_name  birth_year  voted  num_children  income_year  \\\n",
      "0     Denise      Ratke        2005  False             0     92129.41   \n",
      "1       Hali  Cummerata        1987  False             0     75649.17   \n",
      "2    Salomon        Orn        1992   True             2    166313.45   \n",
      "3     Sarina   Schiller        1965  False             2     71704.81   \n",
      "4       Gust  Abernathy        1945  False             2    143316.08   \n",
      "\n",
      "   higher_tax marital_status  marital_codes  age age_group  age_group_codes  \n",
      "0           1         single              0   17     15-25                0  \n",
      "1           2       divorced              3   35     35-45                2  \n",
      "2           3         single              0   30     25-35                1  \n",
      "3           4        married              1   57     55-65                4  \n",
      "4           3        married              1   77     75-85                6  \n"
     ]
    }
   ],
   "source": [
    "#12 Create a new variable called age_group, which groups respondents based on their birth year. \n",
    "# The groups should be in five-year increments, e.g., 25-30, 31-35, etc. \n",
    "# Then label encode the age_group variable to assist the Census team in the event they would like to use machine learning \n",
    "# to predict if a respondent thinks the wealthy should pay higher taxes based on their age group.\n",
    "census['age'] = 2022 - census.birth_year\n",
    "census['age_group'] = census.age.apply(lambda x: '15-25' if x >= 15 and x < 25 else '25-35' if x >= 25 and x < 35 else '35-45' if x >= 35 and x < 45 else '45-55' if x >= 45 and x < 55 else '55-65' if x >= 55 and x < 65 else '65-75' if x >= 65 and x < 75 else '75-85' if x >= 75 and x < 85 else '85-95' if x >= 85 and x < 95 else '95-105' if x >= 95 and x < 105 else 'above 105') \n",
    "census.age_group = pd.Categorical(census.age_group, ['15-25', '25-35', '35-45', '45-55', '55-65', '65-75', '75-85', '85-95', '95-105',  'above 105'], ordered=True)\n",
    "census['age_group_codes'] = census.age_group.cat.codes\n",
    "print(census.head())"
   ]
  }
 ],
 "metadata": {
  "kernelspec": {
   "display_name": "Python 3 (ipykernel)",
   "language": "python",
   "name": "python3"
  },
  "language_info": {
   "codemirror_mode": {
    "name": "ipython",
    "version": 3
   },
   "file_extension": ".py",
   "mimetype": "text/x-python",
   "name": "python",
   "nbconvert_exporter": "python",
   "pygments_lexer": "ipython3",
   "version": "3.9.7"
  }
 },
 "nbformat": 4,
 "nbformat_minor": 5
}
